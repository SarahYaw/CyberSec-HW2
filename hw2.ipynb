{
 "cells": [
  {
   "cell_type": "code",
   "execution_count": 96,
   "id": "88923cfa",
   "metadata": {},
   "outputs": [],
   "source": [
    "from ipywidgets import widgets, Layout\n",
    "from IPython.display import display\n",
    "from Crypto.PublicKey import RSA\n",
    "from Crypto.Cipher import PKCS1_OAEP\n",
    "import binascii\n",
    "import random\n",
    "import math"
   ]
  },
  {
   "cell_type": "code",
   "execution_count": 97,
   "id": "1c24e5d2",
   "metadata": {},
   "outputs": [],
   "source": [
    "#credits\n",
    "#widget info help from https://ipywidgets.readthedocs.io/en/stable/\n",
    "#styling help from https://ipywidgets.readthedocs.io/en/latest/examples/Widget%20Styling.html\n",
    "#RSA help from https://cryptobook.nakov.com/asymmetric-key-ciphers/rsa-encrypt-decrypt-examples\n",
    "#DH help from https://en.wikipedia.org/wiki/Diffie%E2%80%93Hellman_key_exchange"
   ]
  },
  {
   "cell_type": "code",
   "execution_count": 102,
   "id": "cff0154d",
   "metadata": {},
   "outputs": [
    {
     "data": {
      "application/vnd.jupyter.widget-view+json": {
       "model_id": "d84fedc4c7064ebd99fe352db6ac81e2",
       "version_major": 2,
       "version_minor": 0
      },
      "text/plain": [
       "Label(value='Anything typed while text is encoded will not load.                       You can encrypt your me…"
      ]
     },
     "metadata": {},
     "output_type": "display_data"
    },
    {
     "data": {
      "application/vnd.jupyter.widget-view+json": {
       "model_id": "36123d817bb54fcd8c1a67f94ec53931",
       "version_major": 2,
       "version_minor": 0
      },
      "text/plain": [
       "Text(value='', description='Enter your plaintext:', placeholder='type here', style=DescriptionStyle(descriptio…"
      ]
     },
     "metadata": {},
     "output_type": "display_data"
    },
    {
     "data": {
      "application/vnd.jupyter.widget-view+json": {
       "model_id": "7ce2a22fd55e48a18e1555e1e9ee065b",
       "version_major": 2,
       "version_minor": 0
      },
      "text/plain": [
       "Dropdown(description='Choose an encryption method:', options=('RSA', 'Diffe-Hellman', 'Elliptic curve'), style…"
      ]
     },
     "metadata": {},
     "output_type": "display_data"
    },
    {
     "data": {
      "application/vnd.jupyter.widget-view+json": {
       "model_id": "0b4033b699774be4aa6ab6455fe7bcf8",
       "version_major": 2,
       "version_minor": 0
      },
      "text/plain": [
       "ToggleButton(value=False, description='Encrypt/Decrypt')"
      ]
     },
     "metadata": {},
     "output_type": "display_data"
    },
    {
     "data": {
      "application/vnd.jupyter.widget-view+json": {
       "model_id": "7bd86bc41da241a291500a3fad728438",
       "version_major": 2,
       "version_minor": 0
      },
      "text/plain": [
       "Label(value='Output:')"
      ]
     },
     "metadata": {},
     "output_type": "display_data"
    },
    {
     "data": {
      "application/vnd.jupyter.widget-view+json": {
       "model_id": "9787981e3e3c46b2a29aa66c49e3f699",
       "version_major": 2,
       "version_minor": 0
      },
      "text/plain": [
       "Output(layout=Layout(border='1px solid black', height='100px', overflow='hidden scroll', width='900px'))"
      ]
     },
     "metadata": {},
     "output_type": "display_data"
    }
   ],
   "source": [
    "#create widgets\n",
    "intro = widgets.Label(value='Anything typed while text is encoded will not load. \\\n",
    "                      You can encrypt your message multiple times, but you will \\\n",
    "                      have to decrypt in the same order.')\n",
    "style = {'description_width': 'initial'}\n",
    "keyIn = widgets.Text(placeholder='type here', description='Enter your plaintext:', disabled=False, style=style)\n",
    "dropdown = widgets.Dropdown(options=['RSA', 'Diffe-Hellman','Elliptic curve'], value='RSA', \n",
    "                 description='Choose an encryption method:', disabled=False, style=style)\n",
    "encdec = widgets.ToggleButton(description='Encrypt/Decrypt', disabled=False)\n",
    "label = widgets.Label(value='Output:')\n",
    "output = widgets.Output(layout=Layout(height='100px', width='900px', overflow='hidden scroll',\n",
    "                                      border='1px solid black'))\n",
    "#submit = widgets.Button(description='Submit', disabled=False)\n",
    "\n",
    "#display widgets\n",
    "display(intro)\n",
    "display(keyIn)\n",
    "display(dropdown, encdec)#, submit)\n",
    "display(label)\n",
    "display(output)\n",
    "\n",
    "#create variables\n",
    "plaintext = keyIn.value\n",
    "encryptionMode = dropdown.value\n",
    "ciphertext = plaintext\n",
    "encrypted = '.'\n",
    "flag = 'e'\n",
    "#RSAvariables\n",
    "RSAkeyPair = 0\n",
    "RSApublicKey = 0\n",
    "RSApublicKeyPEM = 0\n",
    "RSAprivateKeyPEM = 0\n",
    "#DHvariables\n",
    "DHp = 23 #assume these are already agreed upon; can be changed\n",
    "DHg = 5 #primitive root modulo 23\n",
    "DHAsecretInt = math.floor(random.random() *10)\n",
    "DHApublicKey = (DHg**DHAsecretInt)%DHp\n",
    "DHBsecretInt = math.floor(random.random() *10)\n",
    "DHBpublicKey = (DHg**DHBsecretInt)%DHp\n",
    "DHAsecret = (DHBpublicKey**DHAsecretInt)%DHp\n",
    "DHBsecret = (DHApublicKey**DHBsecretInt)%DHp\n",
    "padd = chr(math.floor(random.random() *10))\n",
    "\n",
    "#handlers & functions\n",
    "def RSAkeygen():\n",
    "    global RSAkeyPair, RSApublicKey, RSApublicKeyPEM, RSAprivateKeyPEM\n",
    "    RSAkeyPair = RSA.generate(1024) #1024 bit key --> roughly 40 characters; standard is 3072 or 4096\n",
    "    RSApublicKey = RSAkeyPair.publickey()\n",
    "    RSApublicKeyPEM = RSApublicKey.exportKey()\n",
    "    RSAprivateKeyPEM = RSAkeyPair.exportKey()\n",
    "RSAkeygen()\n",
    "    \n",
    "def encr(plain, mode):\n",
    "    global RSApublicKey, ciphertext, encrypted\n",
    "    if (mode == 'RSA'): \n",
    "        cipher = bytes(plain, 'utf-8')\n",
    "        encryptor = PKCS1_OAEP.new(RSApublicKey)\n",
    "        encrypted = encryptor.encrypt(cipher)\n",
    "        ciphertext = binascii.b2a_base64(encrypted).decode()\n",
    "    elif (mode == 'Diffe-Hellman'):\n",
    "        cipher=''\n",
    "        for i in plain:\n",
    "            cipher = cipher + chr(ord(i)^ord(padd));\n",
    "        ciphertext = cipher\n",
    "    with output:\n",
    "        output.clear_output()\n",
    "        print(ciphertext)\n",
    "\n",
    "def decr(cipher, mode):\n",
    "    global plaintext, encrypted\n",
    "    if (mode == 'RSA'):\n",
    "        decryptor = PKCS1_OAEP.new(RSAkeyPair)\n",
    "        plaintext = decryptor.decrypt(encrypted).decode()\n",
    "    elif (mode == 'Diffe-Hellman'):\n",
    "        plain = ''\n",
    "        for i in cipher:\n",
    "            plain = plain + chr(ord(i)^ord(padd));\n",
    "        plaintext = plain\n",
    "    with output:\n",
    "        output.clear_output()\n",
    "        print(plaintext)\n",
    "\n",
    "def dropdownHandler(change):\n",
    "    global plaintext, ciphertext, encryptionMode, flag\n",
    "    plaintext = keyIn.value\n",
    "    encryptionMode = change.new\n",
    "dropdown.observe(dropdownHandler, names='value')\n",
    "\n",
    "def keyInHandler(change):\n",
    "    global plaintext, ciphertext, encryptionMode, flag\n",
    "    plaintext = change.new\n",
    "    encryptionMode = dropdown.value\n",
    "    with output:\n",
    "        output.clear_output()\n",
    "        print(plaintext)    \n",
    "keyIn.observe(keyInHandler, names='value')\n",
    "\n",
    "def encdecHandler(obj):\n",
    "    global plaintext, ciphertext, encryptionMode, flag\n",
    "    if flag == 'e':\n",
    "        flag = 'd'\n",
    "        encr(plaintext, encryptionMode)\n",
    "    else:\n",
    "        flag ='e'\n",
    "        decr(ciphertext, encryptionMode)\n",
    "encdec.observe(encdecHandler, 'value')"
   ]
  },
  {
   "cell_type": "code",
   "execution_count": 92,
   "id": "01f3f8cd",
   "metadata": {},
   "outputs": [
    {
     "name": "stdout",
     "output_type": "stream",
     "text": [
      "16\n",
      "encrypted: lahhk$skvh`\n",
      "decrypted: hello world\n"
     ]
    }
   ],
   "source": [
    "DHp = 23 #assume these are already agreed upon; can be changed\n",
    "DHg = 5 #primitive root modulo 23\n",
    "DHAsecretInt = math.floor(random.random() *10)\n",
    "DHApublicKey = (DHg**DHAsecretInt)%DHp\n",
    "DHBsecretInt = math.floor(random.random() *10)\n",
    "DHBpublicKey = (DHg**DHBsecretInt)%DHp\n",
    "DHAsecret = (DHBpublicKey**DHAsecretInt)%DHp\n",
    "DHBsecret = (DHApublicKey**DHBsecretInt)%DHp\n",
    "padd = chr(math.floor(random.random() *10))\n",
    "\n",
    "def encr(plain, padd):\n",
    "    global ciphertext\n",
    "    cipher=''\n",
    "    for i in plain:\n",
    "        cipher = cipher + chr(ord(i)^ord(padd));\n",
    "    ciphertext = cipher\n",
    "def decr(cipher, padd):\n",
    "    global plaintext\n",
    "    plain = ''\n",
    "    for i in cipher:\n",
    "        plain = plain + chr(ord(i)^ord(padd));\n",
    "    plaintext = plain\n",
    "    \n",
    "ciphertext= ''\n",
    "plaintext = 'hello world'\n",
    "encrypted = ''\n",
    "encr(plaintext, padd)\n",
    "decr(ciphertext, padd)\n",
    "print('encrypted:',ciphertext)\n",
    "print('decrypted:',plaintext)"
   ]
  },
  {
   "cell_type": "code",
   "execution_count": null,
   "id": "7033b38e",
   "metadata": {},
   "outputs": [],
   "source": []
  }
 ],
 "metadata": {
  "kernelspec": {
   "display_name": "Python 3 (ipykernel)",
   "language": "python",
   "name": "python3"
  },
  "language_info": {
   "codemirror_mode": {
    "name": "ipython",
    "version": 3
   },
   "file_extension": ".py",
   "mimetype": "text/x-python",
   "name": "python",
   "nbconvert_exporter": "python",
   "pygments_lexer": "ipython3",
   "version": "3.9.7"
  }
 },
 "nbformat": 4,
 "nbformat_minor": 5
}
