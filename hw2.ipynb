{
 "cells": [
  {
   "cell_type": "code",
   "execution_count": 30,
   "id": "88923cfa",
   "metadata": {},
   "outputs": [],
   "source": [
    "from ipywidgets import widgets, Layout\n",
    "from IPython.display import display"
   ]
  },
  {
   "cell_type": "code",
   "execution_count": null,
   "id": "1c24e5d2",
   "metadata": {},
   "outputs": [],
   "source": [
    "#credits\n",
    "#widget info help from https://ipywidgets.readthedocs.io/en/stable/\n",
    "#styling help from https://ipywidgets.readthedocs.io/en/latest/examples/Widget%20Styling.html"
   ]
  },
  {
   "cell_type": "code",
   "execution_count": 108,
   "id": "cff0154d",
   "metadata": {},
   "outputs": [
    {
     "data": {
      "application/vnd.jupyter.widget-view+json": {
       "model_id": "e8dffb2b27664fdb8488c1433330574e",
       "version_major": 2,
       "version_minor": 0
      },
      "text/plain": [
       "Text(value='', description='Enter your plaintext:', placeholder='type here', style=DescriptionStyle(descriptio…"
      ]
     },
     "metadata": {},
     "output_type": "display_data"
    },
    {
     "data": {
      "application/vnd.jupyter.widget-view+json": {
       "model_id": "dd5f7aac5dfd4adcb9d9cb5447dd9021",
       "version_major": 2,
       "version_minor": 0
      },
      "text/plain": [
       "Dropdown(description='Choose an encryption method:', options=('RSA', 'Diffe-Hellman', 'Elliptic curve'), style…"
      ]
     },
     "metadata": {},
     "output_type": "display_data"
    },
    {
     "data": {
      "application/vnd.jupyter.widget-view+json": {
       "model_id": "1d974aadce674806919e11b9d9ecd960",
       "version_major": 2,
       "version_minor": 0
      },
      "text/plain": [
       "Label(value='Ciphertext:')"
      ]
     },
     "metadata": {},
     "output_type": "display_data"
    },
    {
     "data": {
      "application/vnd.jupyter.widget-view+json": {
       "model_id": "cd416a08a2d54f5f894c4ad7a020d398",
       "version_major": 2,
       "version_minor": 0
      },
      "text/plain": [
       "Output(layout=Layout(border='1px solid black', height='50px', overflow='hidden scroll', width='300px'))"
      ]
     },
     "metadata": {},
     "output_type": "display_data"
    }
   ],
   "source": [
    "#create widgets\n",
    "style = {'description_width': 'initial'}\n",
    "keyIn = widgets.Text(placeholder='type here', description='Enter your plaintext:', disabled=False, style=style)\n",
    "dropdown = widgets.Dropdown(options=['RSA', 'Diffe-Hellman','Elliptic curve'], value='RSA', \n",
    "                 description='Choose an encryption method:', disabled=False, style=style)\n",
    "#submit = widgets.Button(description='Submit', disabled=False)\n",
    "label = widgets.Label(value='Ciphertext:')\n",
    "output = widgets.Output(layout=Layout(height='50px', width='300px', overflow='hidden scroll',\n",
    "                                      border='1px solid black'))\n",
    "\n",
    "#display widgets\n",
    "display(keyIn)\n",
    "display(dropdown, label)\n",
    "display(output)\n",
    "\n",
    "#create variables\n",
    "plaintext=keyIn.value\n",
    "encryptionMode = dropdown.value\n",
    "\n",
    "#handlers & functions\n",
    "def dropdownHandler(change):\n",
    "    plaintext=keyIn.value\n",
    "    encryptionMode = change.new\n",
    "    with output:\n",
    "        output.clear_output()\n",
    "        print(plaintext,encryptionMode)\n",
    "dropdown.observe(dropdownHandler, names='value')\n",
    "\n",
    "def keyInHandler(change):\n",
    "    plaintext = change.new\n",
    "    with output:\n",
    "            output.clear_output()\n",
    "            print(plaintext,encryptionMode)\n",
    "keyIn.observe(keyInHandler, names='value')\n",
    "\n",
    "#def submitHandler(obj):\n",
    "#    print('submitted')\n",
    "#submit.on_click(submitHandler)"
   ]
  },
  {
   "cell_type": "code",
   "execution_count": null,
   "id": "5343a656",
   "metadata": {},
   "outputs": [],
   "source": []
  }
 ],
 "metadata": {
  "kernelspec": {
   "display_name": "Python 3 (ipykernel)",
   "language": "python",
   "name": "python3"
  },
  "language_info": {
   "codemirror_mode": {
    "name": "ipython",
    "version": 3
   },
   "file_extension": ".py",
   "mimetype": "text/x-python",
   "name": "python",
   "nbconvert_exporter": "python",
   "pygments_lexer": "ipython3",
   "version": "3.9.7"
  }
 },
 "nbformat": 4,
 "nbformat_minor": 5
}
