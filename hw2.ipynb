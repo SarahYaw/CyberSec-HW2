{
 "cells": [
  {
   "cell_type": "code",
   "execution_count": 30,
   "id": "88923cfa",
   "metadata": {},
   "outputs": [],
   "source": [
    "from ipywidgets import widgets, Layout\n",
    "from IPython.display import display"
   ]
  },
  {
   "cell_type": "code",
   "execution_count": null,
   "id": "1c24e5d2",
   "metadata": {},
   "outputs": [],
   "source": [
    "#credits\n",
    "#styling help from https://ipywidgets.readthedocs.io/en/latest/examples/Widget%20Styling.html"
   ]
  },
  {
   "cell_type": "code",
   "execution_count": 71,
   "id": "cff0154d",
   "metadata": {},
   "outputs": [
    {
     "data": {
      "application/vnd.jupyter.widget-view+json": {
       "model_id": "358660bcfcc94727b1530e90872b79ee",
       "version_major": 2,
       "version_minor": 0
      },
      "text/plain": [
       "Textarea(value='', description='Enter your plaintext:', placeholder='here', style=DescriptionStyle(description…"
      ]
     },
     "metadata": {},
     "output_type": "display_data"
    },
    {
     "data": {
      "application/vnd.jupyter.widget-view+json": {
       "model_id": "bf1e061e4fa3452eb71d0e1c6374129d",
       "version_major": 2,
       "version_minor": 0
      },
      "text/plain": [
       "Dropdown(description='Choose an encryption method:', options=('RSA', 'Diffe-Hellman', 'Elliptic curve'), style…"
      ]
     },
     "metadata": {},
     "output_type": "display_data"
    },
    {
     "data": {
      "application/vnd.jupyter.widget-view+json": {
       "model_id": "dea0309af03f460d9906e8e06d563814",
       "version_major": 2,
       "version_minor": 0
      },
      "text/plain": [
       "Label(value='Ciphertext:')"
      ]
     },
     "metadata": {},
     "output_type": "display_data"
    },
    {
     "data": {
      "application/vnd.jupyter.widget-view+json": {
       "model_id": "a6d62cd7c0de42f386e018bca5a8dfd0",
       "version_major": 2,
       "version_minor": 0
      },
      "text/plain": [
       "Output(layout=Layout(border='1px solid black', height='50px', overflow='hidden scroll', width='300px'))"
      ]
     },
     "metadata": {},
     "output_type": "display_data"
    }
   ],
   "source": [
    "#create widgets\n",
    "style = {'description_width': 'initial'}\n",
    "keyIn = widgets.Textarea(placeholder='here', description='Enter your plaintext:', disabled=False, style=style)\n",
    "dropdown = widgets.Dropdown(options=['RSA', 'Diffe-Hellman','Elliptic curve'], value='RSA', \n",
    "                 description='Choose an encryption method:', disabled=False, style=style)\n",
    "#submit = widgets.Button(description='Submit', disabled=False)\n",
    "label = widgets.Label(value='Ciphertext:')\n",
    "output = widgets.Output(layout=Layout(height='50px', width='300px', overflow='hidden scroll',\n",
    "                                      border='1px solid black'))\n",
    "\n",
    "#display widgets\n",
    "display(keyIn)\n",
    "display(dropdown, label)\n",
    "display(output)\n",
    "\n",
    "#handlers\n",
    "def dropdownHandler(change):\n",
    "    if  (change.new=='RSA'):\n",
    "        with output:\n",
    "            output.clear_output()\n",
    "            print('RSA')\n",
    "    if  (change.new=='Diffe-Hellman'):\n",
    "        with output:\n",
    "            output.clear_output()\n",
    "            print('DH')\n",
    "    if  (change.new=='Elliptic curve'):\n",
    "        with output:\n",
    "            output.clear_output()\n",
    "            print('EC')\n",
    "dropdown.observe(dropdownHandler, names='value')\n",
    "\n",
    "#def submitHandler(obj):\n",
    "#    print('submitted')\n",
    "#submit.on_click(submitHandler)"
   ]
  },
  {
   "cell_type": "code",
   "execution_count": null,
   "id": "971af7e7",
   "metadata": {},
   "outputs": [],
   "source": []
  }
 ],
 "metadata": {
  "kernelspec": {
   "display_name": "Python 3 (ipykernel)",
   "language": "python",
   "name": "python3"
  },
  "language_info": {
   "codemirror_mode": {
    "name": "ipython",
    "version": 3
   },
   "file_extension": ".py",
   "mimetype": "text/x-python",
   "name": "python",
   "nbconvert_exporter": "python",
   "pygments_lexer": "ipython3",
   "version": "3.9.7"
  }
 },
 "nbformat": 4,
 "nbformat_minor": 5
}
