{
 "cells": [
  {
   "cell_type": "code",
   "execution_count": 7,
   "id": "weird-substance",
   "metadata": {},
   "outputs": [],
   "source": [
    "#each command (aside from imports) is seperated to a new cell to better debug and error check which\n",
    "#step went wrong if there are any errors. It's not necessary, but it's a little less to sift through\n",
    "#in the error code. s( ^ ‿ ^)-b\n",
    "!pip3 install ipython"
   ]
  },
  {
   "cell_type": "code",
   "execution_count": 3,
   "id": "conceptual-basin",
   "metadata": {},
   "outputs": [],
   "source": [
    "from ipywidgets import widgets\n",
    "from IPython.display import display"
   ]
  },
  {
   "cell_type": "code",
   "execution_count": 6,
   "id": "duplicate-closing",
   "metadata": {},
   "outputs": [],
   "source": [
    "#to set up the widget environment\n",
    "!jupyter nbextension enable --py widgetsnbextension"
   ]
  },
  {
   "cell_type": "code",
   "execution_count": null,
   "id": "40e1ba9a",
   "metadata": {},
   "outputs": [],
   "source": [
    "!jupyter labextension install @jupyter-widgets/jupyterlab-manager"
   ]
  },
  {
   "cell_type": "code",
   "execution_count": null,
   "id": "c2cde0be",
   "metadata": {},
   "outputs": [],
   "source": [
    "!jupyter lab build"
   ]
  },
  {
   "cell_type": "code",
   "execution_count": null,
   "id": "0803d464",
   "metadata": {},
   "outputs": [],
   "source": [
    "#refresh your page for this and hw2 if that's open as well before testing widget builds"
   ]
  }
 ],
 "metadata": {
  "kernelspec": {
   "display_name": "Python 3 (ipykernel)",
   "language": "python",
   "name": "python3"
  },
  "language_info": {
   "codemirror_mode": {
    "name": "ipython",
    "version": 3
   },
   "file_extension": ".py",
   "mimetype": "text/x-python",
   "name": "python",
   "nbconvert_exporter": "python",
   "pygments_lexer": "ipython3",
   "version": "3.9.7"
  }
 },
 "nbformat": 4,
 "nbformat_minor": 5
}
