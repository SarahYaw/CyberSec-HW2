{
 "cells": [
  {
   "cell_type": "code",
   "execution_count": 7,
   "id": "weird-substance",
   "metadata": {},
   "outputs": [],
   "source": [
    "#each command (aside from imports) is seperated to a new cell to better debug and error check which\n",
    "#step went wrong if there are any errors. It's not necessary, but it's a little less to sift through\n",
    "#in the error code. s( ^ ‿ ^)-b"
   ]
  },
  {
   "cell_type": "code",
   "execution_count": 44,
   "id": "07ec6398",
   "metadata": {},
   "outputs": [
    {
     "name": "stdout",
     "output_type": "stream",
     "text": [
      "\u001b[34m==>\u001b[0m \u001b[1mDownloading https://ghcr.io/v2/homebrew/core/python/3.7/manifests/3.7.12\u001b[0m\n",
      "######################################################################## 100.0%\n",
      "\u001b[34m==>\u001b[0m \u001b[1mDownloading https://ghcr.io/v2/homebrew/core/python/3.7/blobs/sha256:824a94e\u001b[0m\n",
      "\u001b[34m==>\u001b[0m \u001b[1mDownloading from https://pkg-containers.githubusercontent.com/ghcr1/blobs/sh\u001b[0m\n",
      "######################################################################## 100.0%\n",
      "\u001b[34m==>\u001b[0m \u001b[1mPouring python@3.7--3.7.12.big_sur.bottle.tar.gz\u001b[0m\n",
      "\u001b[34m==>\u001b[0m \u001b[1m/usr/local/Cellar/python@3.7/3.7.12/bin/python3 -s setup.py --no-user-cfg in\u001b[0m\n",
      "\u001b[34m==>\u001b[0m \u001b[1m/usr/local/Cellar/python@3.7/3.7.12/bin/python3 -s setup.py --no-user-cfg in\u001b[0m\n",
      "\u001b[34m==>\u001b[0m \u001b[1m/usr/local/Cellar/python@3.7/3.7.12/bin/python3 -s setup.py --no-user-cfg in\u001b[0m\n",
      "\u001b[34m==>\u001b[0m \u001b[1m/usr/local/Cellar/python@3.7/3.7.12/bin/python3 -s setup.py --no-user-cfg in\u001b[0m\n",
      "\u001b[34m==>\u001b[0m \u001b[1m/usr/local/Cellar/python@3.7/3.7.12/bin/python3 -s setup.py --no-user-cfg in\u001b[0m\n",
      "\u001b[34m==>\u001b[0m \u001b[1mCaveats\u001b[0m\n",
      "Python has been installed as\n",
      "  /usr/local/opt/python@3.7/bin/python3\n",
      "\n",
      "Unversioned symlinks `python`, `python-config`, `pip` etc. pointing to\n",
      "`python3`, `python3-config`, `pip3` etc., respectively, have been installed into\n",
      "  /usr/local/opt/python@3.7/libexec/bin\n",
      "\n",
      "You can install Python packages with\n",
      "  /usr/local/opt/python@3.7/bin/pip3 install <package>\n",
      "They will install into the site-package directory\n",
      "  /usr/local/lib/python3.7/site-packages\n",
      "\n",
      "See: https://docs.brew.sh/Homebrew-and-Python\n",
      "\n",
      "python@3.7 is keg-only, which means it was not symlinked into /usr/local,\n",
      "because this is an alternate version of another formula.\n",
      "\n",
      "If you need to have python@3.7 first in your PATH, run:\n",
      "  echo 'export PATH=\"/usr/local/opt/python@3.7/bin:$PATH\"' >> ~/.zshrc\n",
      "\n",
      "For compilers to find python@3.7 you may need to set:\n",
      "  export LDFLAGS=\"-L/usr/local/opt/python@3.7/lib\"\n",
      "\n",
      "For pkg-config to find python@3.7 you may need to set:\n",
      "  export PKG_CONFIG_PATH=\"/usr/local/opt/python@3.7/lib/pkgconfig\"\n",
      "\n",
      "\u001b[34m==>\u001b[0m \u001b[1mSummary\u001b[0m\n",
      "🍺  /usr/local/Cellar/python@3.7/3.7.12: 4,524 files, 70.9MB\n"
     ]
    }
   ],
   "source": [
    "#I have yet to find code for pycryptodome to cover tor the deprication of time.clock, so you'll have\n",
    "#to use an earlirer version of python to compensate. time.time and time.perf_counter() didn't work for me\n",
    "#Replace 'brew' in the command below if you don't use homebrew as your package installer\n",
    "!brew install python@3.7"
   ]
  },
  {
   "cell_type": "code",
   "execution_count": 45,
   "id": "a90ad388",
   "metadata": {},
   "outputs": [
    {
     "name": "stdout",
     "output_type": "stream",
     "text": [
      "Unlinking /usr/local/Cellar/python@3.9/3.9.7... 24 symlinks removed.\n"
     ]
    }
   ],
   "source": [
    "!brew unlink python"
   ]
  },
  {
   "cell_type": "code",
   "execution_count": 54,
   "id": "aa2692e5",
   "metadata": {},
   "outputs": [
    {
     "name": "stdout",
     "output_type": "stream",
     "text": [
      "\u001b[33mWarning:\u001b[0m Already linked: /usr/local/Cellar/python@3.7/3.7.12\r\n",
      "To relink, run:\r\n",
      "  brew unlink python@3.7 && brew link --force python@3.7\r\n"
     ]
    }
   ],
   "source": [
    "!brew link --overwrite python@3.7 #this WILL overwrite all conflicting files so remove\n",
    "#the overwrite tag to see what would be deleted"
   ]
  },
  {
   "cell_type": "code",
   "execution_count": 55,
   "id": "a780f389",
   "metadata": {},
   "outputs": [
    {
     "name": "stdout",
     "output_type": "stream",
     "text": [
      "Python 3.7.12\r\n"
     ]
    }
   ],
   "source": [
    "!python3 --version #should be 3.7.something"
   ]
  },
  {
   "cell_type": "code",
   "execution_count": null,
   "id": "f552ad42",
   "metadata": {},
   "outputs": [],
   "source": [
    "!pip3 install ipython"
   ]
  },
  {
   "cell_type": "code",
   "execution_count": 3,
   "id": "conceptual-basin",
   "metadata": {},
   "outputs": [],
   "source": [
    "from ipywidgets import widgets\n",
    "from IPython.display import display"
   ]
  },
  {
   "cell_type": "code",
   "execution_count": 6,
   "id": "duplicate-closing",
   "metadata": {},
   "outputs": [],
   "source": [
    "#to set up the widget environment\n",
    "!jupyter nbextension enable --py widgetsnbextension"
   ]
  },
  {
   "cell_type": "code",
   "execution_count": null,
   "id": "be143f3e",
   "metadata": {},
   "outputs": [],
   "source": [
    "!jupyter labextension install @jupyter-widgets/jupyterlab-manager"
   ]
  },
  {
   "cell_type": "code",
   "execution_count": null,
   "id": "245fe262",
   "metadata": {},
   "outputs": [],
   "source": [
    "!jupyter lab build"
   ]
  },
  {
   "cell_type": "code",
   "execution_count": 8,
   "id": "00cd98fe",
   "metadata": {},
   "outputs": [],
   "source": [
    "#refresh your page for this and hw2 if that's open as well before testing widget builds"
   ]
  },
  {
   "cell_type": "code",
   "execution_count": 7,
   "id": "c224cc9f",
   "metadata": {},
   "outputs": [
    {
     "name": "stdout",
     "output_type": "stream",
     "text": [
      "\u001b[33mDEPRECATION: Configuring installation scheme with distutils config files is deprecated and will no longer work in the near future. If you are using a Homebrew or Linuxbrew Python, please see discussion at https://github.com/Homebrew/homebrew-core/issues/76621\u001b[0m\n",
      "Collecting pycryptodomex\n",
      "  Using cached pycryptodomex-3.10.4-cp35-abi3-macosx_10_9_x86_64.whl (1.5 MB)\n",
      "Installing collected packages: pycryptodomex\n",
      "\u001b[33mDEPRECATION: Configuring installation scheme with distutils config files is deprecated and will no longer work in the near future. If you are using a Homebrew or Linuxbrew Python, please see discussion at https://github.com/Homebrew/homebrew-core/issues/76621\u001b[0m\n",
      "Successfully installed pycryptodomex-3.10.4\n"
     ]
    }
   ],
   "source": [
    "!pip3 install pycryptodomex"
   ]
  },
  {
   "cell_type": "code",
   "execution_count": 8,
   "id": "b003064c",
   "metadata": {
    "scrolled": false
   },
   "outputs": [
    {
     "ename": "ModuleNotFoundError",
     "evalue": "No module named 'Crypto.PublicKey'",
     "output_type": "error",
     "traceback": [
      "\u001b[0;31m---------------------------------------------------------------------------\u001b[0m",
      "\u001b[0;31mModuleNotFoundError\u001b[0m                       Traceback (most recent call last)",
      "\u001b[0;32m/var/folders/lk/6lqnlq_d2rv6_tv4sp974ng40000gn/T/ipykernel_276/3385953649.py\u001b[0m in \u001b[0;36m<module>\u001b[0;34m\u001b[0m\n\u001b[0;32m----> 1\u001b[0;31m \u001b[0;32mfrom\u001b[0m \u001b[0mCrypto\u001b[0m\u001b[0;34m.\u001b[0m\u001b[0mPublicKey\u001b[0m \u001b[0;32mimport\u001b[0m \u001b[0mRSA\u001b[0m\u001b[0;34m\u001b[0m\u001b[0;34m\u001b[0m\u001b[0m\n\u001b[0m\u001b[1;32m      2\u001b[0m \u001b[0;32mfrom\u001b[0m \u001b[0mCrypto\u001b[0m\u001b[0;34m.\u001b[0m\u001b[0mCipher\u001b[0m \u001b[0;32mimport\u001b[0m \u001b[0mPKCS1_OAEP\u001b[0m\u001b[0;34m\u001b[0m\u001b[0;34m\u001b[0m\u001b[0m\n\u001b[1;32m      3\u001b[0m \u001b[0;32mimport\u001b[0m \u001b[0mbinascii\u001b[0m\u001b[0;34m\u001b[0m\u001b[0;34m\u001b[0m\u001b[0m\n",
      "\u001b[0;31mModuleNotFoundError\u001b[0m: No module named 'Crypto.PublicKey'"
     ]
    }
   ],
   "source": [
    "from Crypto.PublicKey import RSA\n",
    "from Crypto.Cipher import PKCS1_OAEP\n",
    "import binascii"
   ]
  },
  {
   "cell_type": "code",
   "execution_count": null,
   "id": "f5f65d7e",
   "metadata": {},
   "outputs": [],
   "source": []
  }
 ],
 "metadata": {
  "kernelspec": {
   "display_name": "Python 3 (ipykernel)",
   "language": "python",
   "name": "python3"
  },
  "language_info": {
   "codemirror_mode": {
    "name": "ipython",
    "version": 3
   },
   "file_extension": ".py",
   "mimetype": "text/x-python",
   "name": "python",
   "nbconvert_exporter": "python",
   "pygments_lexer": "ipython3",
   "version": "3.9.7"
  }
 },
 "nbformat": 4,
 "nbformat_minor": 5
}
