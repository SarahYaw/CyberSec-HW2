{
 "cells": [
  {
   "cell_type": "code",
   "execution_count": 2,
   "id": "88923cfa",
   "metadata": {},
   "outputs": [],
   "source": [
    "from ipywidgets import widgets, Layout\n",
    "from IPython.display import display\n",
    "from Crypto.PublicKey import RSA\n",
    "from Crypto.Cipher import PKCS1_OAEP\n",
    "import binascii"
   ]
  },
  {
   "cell_type": "code",
   "execution_count": 3,
   "id": "1c24e5d2",
   "metadata": {},
   "outputs": [],
   "source": [
    "#credits\n",
    "#widget info help from https://ipywidgets.readthedocs.io/en/stable/\n",
    "#styling help from https://ipywidgets.readthedocs.io/en/latest/examples/Widget%20Styling.html\n",
    "#RSA help from https://cryptobook.nakov.com/asymmetric-key-ciphers/rsa-encrypt-decrypt-examples"
   ]
  },
  {
   "cell_type": "code",
   "execution_count": 55,
   "id": "cff0154d",
   "metadata": {},
   "outputs": [
    {
     "data": {
      "application/vnd.jupyter.widget-view+json": {
       "model_id": "4fee7b9dfe76478ca932cfba594ec65d",
       "version_major": 2,
       "version_minor": 0
      },
      "text/plain": [
       "Label(value='Anything typed while text is encoded will not load')"
      ]
     },
     "metadata": {},
     "output_type": "display_data"
    },
    {
     "data": {
      "application/vnd.jupyter.widget-view+json": {
       "model_id": "3e737bd30c214c2daee0364c87eedd1c",
       "version_major": 2,
       "version_minor": 0
      },
      "text/plain": [
       "Text(value='', description='Enter your plaintext:', placeholder='type here', style=DescriptionStyle(descriptio…"
      ]
     },
     "metadata": {},
     "output_type": "display_data"
    },
    {
     "data": {
      "application/vnd.jupyter.widget-view+json": {
       "model_id": "b7abd22cab604b64b2d60f416ba34fdc",
       "version_major": 2,
       "version_minor": 0
      },
      "text/plain": [
       "Dropdown(description='Choose an encryption method:', options=('RSA', 'Diffe-Hellman', 'Elliptic curve'), style…"
      ]
     },
     "metadata": {},
     "output_type": "display_data"
    },
    {
     "data": {
      "application/vnd.jupyter.widget-view+json": {
       "model_id": "8e8959b12eb447fbb29220ca6667f9db",
       "version_major": 2,
       "version_minor": 0
      },
      "text/plain": [
       "ToggleButton(value=False, description='Encrypt/Decrypt')"
      ]
     },
     "metadata": {},
     "output_type": "display_data"
    },
    {
     "data": {
      "application/vnd.jupyter.widget-view+json": {
       "model_id": "153209c67de845bcbd7875345cc426fd",
       "version_major": 2,
       "version_minor": 0
      },
      "text/plain": [
       "Label(value='Output:')"
      ]
     },
     "metadata": {},
     "output_type": "display_data"
    },
    {
     "data": {
      "application/vnd.jupyter.widget-view+json": {
       "model_id": "f6dd6c67e4444b33ac98bd888ac5294a",
       "version_major": 2,
       "version_minor": 0
      },
      "text/plain": [
       "Output(layout=Layout(border='1px solid black', height='100px', overflow='hidden scroll', width='900px'))"
      ]
     },
     "metadata": {},
     "output_type": "display_data"
    }
   ],
   "source": [
    "#create widgets\n",
    "intro = widgets.Label(value='Anything typed while text is encoded will not load')\n",
    "style = {'description_width': 'initial'}\n",
    "keyIn = widgets.Text(placeholder='type here', description='Enter your plaintext:', disabled=False, style=style)\n",
    "dropdown = widgets.Dropdown(options=['RSA', 'Diffe-Hellman','Elliptic curve'], value='RSA', \n",
    "                 description='Choose an encryption method:', disabled=False, style=style)\n",
    "encdec = widgets.ToggleButton(description='Encrypt/Decrypt', disabled=False)\n",
    "label = widgets.Label(value='Output:')\n",
    "output = widgets.Output(layout=Layout(height='100px', width='900px', overflow='hidden scroll',\n",
    "                                      border='1px solid black'))\n",
    "#submit = widgets.Button(description='Submit', disabled=False)\n",
    "\n",
    "#display widgets\n",
    "display(intro)\n",
    "display(keyIn)\n",
    "display(dropdown, encdec)#, submit)\n",
    "display(label)\n",
    "display(output)\n",
    "\n",
    "#create variables\n",
    "plaintext = keyIn.value\n",
    "encryptionMode = dropdown.value\n",
    "ciphertext = plaintext\n",
    "encrypted = '.'\n",
    "flag = 'e'\n",
    "RSAkeyPair = 0\n",
    "RSApublicKey = 0\n",
    "RSApublicKeyPEM = 0\n",
    "RSAprivateKeyPEM = 0\n",
    "\n",
    "#handlers & functions\n",
    "def RSAkeygen():\n",
    "    global RSAkeyPair, RSApublicKey, RSApublicKeyPEM, RSAprivateKeyPEM\n",
    "    RSAkeyPair = RSA.generate(1024) #1024 bit key --> roughly 40 characters; standard is 3072 or 4096\n",
    "    RSApublicKey = RSAkeyPair.publickey()\n",
    "    RSApublicKeyPEM = RSApublicKey.exportKey()\n",
    "    RSAprivateKeyPEM = RSAkeyPair.exportKey()\n",
    "RSAkeygen()\n",
    "    \n",
    "def encr(plain, mode):\n",
    "    global RSApublicKey\n",
    "    if (mode == 'RSA'): \n",
    "        global ciphertext, encrypted\n",
    "        cipher = bytes(plain, 'utf-8')\n",
    "        encryptor = PKCS1_OAEP.new(RSApublicKey)\n",
    "        encrypted = encryptor.encrypt(cipher)\n",
    "        ciphertext = binascii.b2a_base64(encrypted).decode()\n",
    "    #elif (mode == 'Diffe-Hellman')\n",
    "        \n",
    "    with output:\n",
    "        output.clear_output()\n",
    "        print(ciphertext)\n",
    "\n",
    "def decr(cipher, mode):\n",
    "    if (mode == 'RSA'):\n",
    "        global plaintext, encrypted\n",
    "        decryptor = PKCS1_OAEP.new(RSAkeyPair)\n",
    "        plaintext = decryptor.decrypt(encrypted).decode()\n",
    "    #elif (mode == 'Diffe-Hellman')\n",
    "    \n",
    "    with output:\n",
    "        output.clear_output()\n",
    "        print(plaintext)\n",
    "\n",
    "def dropdownHandler(change):\n",
    "    global plaintext, ciphertext, encryptionMode, flag\n",
    "    plaintext = keyIn.value\n",
    "    encryptionMode = change.new\n",
    "    if flag == 'e':\n",
    "        decr(ciphertext, encryptionMode, flag)\n",
    "        encr(plaintext, encryptionMode, flag)\n",
    "    else:\n",
    "        encr(plaintext, encryptionMode, flag)\n",
    "        decr(ciphertext, encryptionMode, flag)\n",
    "dropdown.observe(dropdownHandler, names='value')\n",
    "\n",
    "def keyInHandler(change):\n",
    "    global plaintext, ciphertext, encryptionMode, flag\n",
    "    plaintext = change.new\n",
    "    encryptionMode = dropdown.value\n",
    "    with output:\n",
    "        output.clear_output()\n",
    "        print(plaintext)    \n",
    "keyIn.observe(keyInHandler, names='value')\n",
    "\n",
    "def encdecHandler(obj):\n",
    "    global plaintext, ciphertext, encryptionMode, flag\n",
    "    if flag == 'e':\n",
    "        flag = 'd'\n",
    "        encr(plaintext, encryptionMode)\n",
    "    else:\n",
    "        flag ='e'\n",
    "        decr(ciphertext, encryptionMode)\n",
    "encdec.observe(encdecHandler, 'value')"
   ]
  }
 ],
 "metadata": {
  "kernelspec": {
   "display_name": "Python 3 (ipykernel)",
   "language": "python",
   "name": "python3"
  },
  "language_info": {
   "codemirror_mode": {
    "name": "ipython",
    "version": 3
   },
   "file_extension": ".py",
   "mimetype": "text/x-python",
   "name": "python",
   "nbconvert_exporter": "python",
   "pygments_lexer": "ipython3",
   "version": "3.9.7"
  }
 },
 "nbformat": 4,
 "nbformat_minor": 5
}
